{
 "cells": [
  {
   "cell_type": "code",
   "execution_count": 24,
   "source": [
    "import numpy as np\n",
    "import matplotlib.pyplot as plt\n",
    "\n",
    "import re"
   ],
   "outputs": [],
   "metadata": {}
  },
  {
   "cell_type": "markdown",
   "source": [
    "# Harmonic oscillator data"
   ],
   "metadata": {}
  },
  {
   "cell_type": "code",
   "execution_count": 8,
   "source": [
    "filename = \"C-code/integration_results.dat\"\n",
    "n_coords = 3\n",
    "coordinates = {}"
   ],
   "outputs": [],
   "metadata": {}
  },
  {
   "cell_type": "code",
   "execution_count": 9,
   "source": [
    "def x_f(t, x0, y0, w):\n",
    "    return y0/w * np.sin(w*t) + x0*np.cos(w*t)\n",
    "def y_f(t, x0, y0, w):\n",
    "    return y0*np.cos(w*t) - x0*w*np.sin(w*t)"
   ],
   "outputs": [],
   "metadata": {}
  },
  {
   "cell_type": "code",
   "execution_count": 12,
   "source": [
    "coordinates = {}\n",
    "\n",
    "with open(filename, 'r') as rfile:\n",
    "    lines = rfile.readlines()\n",
    "    new_point_pattern = r\"New point coordinate ([0-9]+)\"\n",
    "    basic_coordinates_pattern = r\"(-*[0-9]*\\.*[0-9]*e*[+-]*[0-9]+) \"\n",
    "    coordinates_pattern = \"\"\n",
    "\n",
    "    for i in range(n_coords):\n",
    "        coordinates_pattern += basic_coordinates_pattern\n",
    "    \n",
    "    current_name = \"none\"\n",
    "    for line in lines:\n",
    "        match_point = re.match(new_point_pattern, line)\n",
    "        match_coord = re.match(coordinates_pattern, line)\n",
    "\n",
    "        if match_point: # building the structure to hold the datapoints [ [ti], [xi], ...]\n",
    "            current_name = match_point.groups()[0]\n",
    "            coordinates[current_name] = []\n",
    "            for i in range(n_coords):\n",
    "                coordinates[current_name].append([])\n",
    "            pass\n",
    "        elif match_coord:\n",
    "            if len(match_coord.groups()) != n_coords:\n",
    "                print(\"Coordinate length mismatch \", match_coord.groups())\n",
    "                print(line)\n",
    "                break\n",
    "            for i in range(n_coords):\n",
    "                coordinates[current_name][i].append(float(match_coord.groups()[i]))\n",
    "        else:\n",
    "            continue\n",
    "\n",
    "print(\"Threads: \", len(coordinates))\n",
    "n_threads  = len(coordinates)\n"
   ],
   "outputs": [
    {
     "output_type": "stream",
     "name": "stdout",
     "text": [
      "Threads:  128\n"
     ]
    }
   ],
   "metadata": {}
  },
  {
   "cell_type": "code",
   "execution_count": 13,
   "source": [
    "x_err_arr = []\n",
    "y_err_arr = []\n",
    "\n",
    "for id in range(n_threads):\n",
    "\n",
    "    # id = 5\n",
    "    # point_id = 5\n",
    "\n",
    "    point_name = str(id)\n",
    "\n",
    "    w = 2*np.pi\n",
    "\n",
    "    # changing the initial position depending on the simulation\n",
    "    x0 = 0 + (1.0*id)/n_threads\n",
    "    y0 = 1 + -(1.0*id)/n_threads\n",
    "\n",
    "    t_arr = coordinates[point_name][0]\n",
    "    x_arr = coordinates[point_name][1]\n",
    "    y_arr = coordinates[point_name][2]\n",
    "\n",
    "    x_sol = [x_f(t, x0, y0, w) for t in t_arr]\n",
    "    y_sol = [y_f(t, x0, y0, w) for t in t_arr]\n",
    "\n",
    "    x_err2 = 0\n",
    "    y_err2 = 0\n",
    "    for i, t in enumerate(t_arr):\n",
    "        x_err2 += (x_arr[i]-x_sol[i])**2\n",
    "        y_err2 += (y_arr[i]-y_sol[i])**2\n",
    "    x_err2 /= len(t_arr)\n",
    "    y_err2 /= len(t_arr)\n",
    "    \n",
    "    plt.scatter(t_arr, x_arr, label=\"x sim\")\n",
    "    plt.plot(t_arr, x_sol, label=\"x sol\", color='r')\n",
    "    plt.legend()\n",
    "    plt.show()\n",
    "    plt.scatter(t_arr, y_arr, label=\"y sim\")\n",
    "    plt.plot(t_arr, y_sol, label=\"y sol\", color='r')\n",
    "    plt.legend()\n",
    "    plt.show()\n",
    "    \n",
    "    print(\"Simulation id: \", id)\n",
    "    print(\"x_err2: \",x_err2)\n",
    "    print(\"y_err2: \", y_err2)\n",
    "    x_err_arr.append(x_err2)\n",
    "    y_err_arr.append(y_err2)\n",
    "\n",
    "plt.plot(x_err_arr, 'b.')\n",
    "plt.show()\n",
    "plt.plot(y_err_arr, 'b.')\n",
    "plt.show()"
   ],
   "outputs": [
    {
     "output_type": "display_data",
     "data": {
      "image/png": "[encoded data removed]",
      "text/plain": [
       "<Figure size 432x288 with 1 Axes>"
      ]
     },
     "metadata": {
      "needs_background": "light"
     }
    },
    {
     "output_type": "display_data",
     "data": {
      "image/png": "[encoded data removed]",
      "text/plain": [
       "<Figure size 432x288 with 1 Axes>"
      ]
     },
     "metadata": {
      "needs_background": "light"
     }
    }
   ],
   "metadata": {}
  },
  {
   "cell_type": "code",
   "execution_count": 11,
   "source": [
    "2**14"
   ],
   "outputs": [
    {
     "output_type": "execute_result",
     "data": {
      "text/plain": [
       "16384"
      ]
     },
     "metadata": {},
     "execution_count": 11
    }
   ],
   "metadata": {}
  },
  {
   "cell_type": "code",
   "execution_count": 74,
   "source": [
    "(2*np.pi)**2"
   ],
   "outputs": [
    {
     "output_type": "execute_result",
     "data": {
      "text/plain": [
       "39.47841760435743"
      ]
     },
     "metadata": {},
     "execution_count": 74
    }
   ],
   "metadata": {}
  },
  {
   "cell_type": "markdown",
   "source": [
    "# Wormhole Simulation"
   ],
   "metadata": {}
  },
  {
   "cell_type": "markdown",
   "source": [
    "## Essential imports and functions"
   ],
   "metadata": {}
  },
  {
   "cell_type": "code",
   "execution_count": 44,
   "source": [
    "import ipyvolume as ipv\n",
    "from scipy import integrate\n",
    "from matplotlib.patches import Circle, Wedge\n",
    "from matplotlib.collections import PatchCollection\n"
   ],
   "outputs": [],
   "metadata": {}
  },
  {
   "cell_type": "code",
   "execution_count": 3,
   "source": [
    "def z_integrand(l):\n",
    "    x = 2/(np.pi*M) * (np.abs(l)-a)\n",
    "    return np.sqrt(1-(2/np.pi)**2*np.arctan(x)**2)\n",
    "\n",
    "def z_l(l):\n",
    "    return integrate.quad(z_integrand, 0, l)[0]\n",
    "\n",
    "def r_l(l):\n",
    "    x = 2*(np.abs(l)-a)/(np.pi*M)\n",
    "    if np.abs(l)>a:\n",
    "        r = rho + M * (x*np.arctan(x) - 1/2*np.log(1+x**2))\n",
    "        # drdl = 2/(np.pi)*np.arctan(x)*np.sign(l) \n",
    "    else:\n",
    "        r = rho\n",
    "    return r"
   ],
   "outputs": [],
   "metadata": {}
  },
  {
   "cell_type": "code",
   "execution_count": 4,
   "source": [
    "def gen_metric_links(L, L_iter, phi_iter):\n",
    "    x_cord = []\n",
    "    y_cord = []\n",
    "    z_cord = []\n",
    "\n",
    "    for l in np.linspace(-L, L, L_iter):\n",
    "        for phi in np.linspace(0, 2*np.pi, phi_iter):\n",
    "            r = r_l(l)\n",
    "            x = r*np.cos(phi)\n",
    "            y = r*np.sin(phi)\n",
    "            z = z_l(l)\n",
    "            x_cord.append(x)\n",
    "            y_cord.append(y)\n",
    "            z_cord.append(z)\n",
    "\n",
    "    triangle_links1 = []\n",
    "    triangle_links2 = []\n",
    "    line_links = []\n",
    "\n",
    "    for j in range(L_iter-1):\n",
    "        for i in range(int(phi_iter)):\n",
    "            N = phi_iter\n",
    "            triangle_links1.append([i+j*N, (i+1)+j*N, i+(j+1)*N])\n",
    "            triangle_links2.append([i+j*N,  (i-1)+(j+1)*N,i+(j+1)*N])\n",
    "\n",
    "            if i+1+j*N <= L_iter*phi_iter:\n",
    "                line_links.append([i+j*N, i+1+j*N])\n",
    "            if i+(j+1)*N <= L_iter*phi_iter:\n",
    "                line_links.append([i+j*N, i+(j+1)*N])\n",
    "    \n",
    "    return (x_cord, y_cord, z_cord, triangle_links1, triangle_links2, line_links)\n"
   ],
   "outputs": [],
   "metadata": {}
  },
  {
   "cell_type": "markdown",
   "source": [
    "## Selecting basic parameters for file import"
   ],
   "metadata": {}
  },
  {
   "cell_type": "code",
   "execution_count": 5,
   "source": [
    "filename = \"C-code/integration_results/wormhole_integration_results.dat\"\n",
    "n_coords = 6\n",
    "n_params = 5\n",
    "\n",
    "coordinates = {}\n",
    "params = {}"
   ],
   "outputs": [],
   "metadata": {}
  },
  {
   "cell_type": "markdown",
   "source": [
    "## Importing data from simulation"
   ],
   "metadata": {}
  },
  {
   "cell_type": "code",
   "execution_count": 21,
   "source": [
    "coordinates = {}\n",
    "params = {}\n",
    "\n",
    "with open(filename, 'r') as rfile:\n",
    "    lines = rfile.readlines()\n",
    "    number_pattern = r\"(-*[0-9]*\\.*[0-9]*e*[+-]*[0-9]+)\\t\"\n",
    "    new_point_pattern = r\"New point coordinate (.*); params:\\t\"+number_pattern*n_params+\"\\n\"\n",
    "    coordinates_pattern = number_pattern*n_coords + \"\\n\"\n",
    "\n",
    "    current_name = \"none\"\n",
    "    for line in lines:\n",
    "        match_point = re.match(new_point_pattern, line)\n",
    "        match_coord = re.match(coordinates_pattern, line)\n",
    "\n",
    "        if match_point: # building the structure to hold the datapoints [ [ti], [xi], ...]\n",
    "            current_name = match_point.groups()[0]\n",
    "            coordinates[current_name] = []\n",
    "            params[current_name] = []\n",
    "            for i in range(n_coords):\n",
    "                coordinates[current_name].append([])\n",
    "            for j in range(n_params):\n",
    "                params[current_name].append(match_point.groups()[j+1])\n",
    "            pass\n",
    "        elif match_coord:\n",
    "            if len(match_coord.groups()) != n_coords:\n",
    "                print(\"Coordinate length mismatch \", match_coord.groups())\n",
    "                print(line)\n",
    "                break\n",
    "            for i in range(n_coords):\n",
    "                coordinates[current_name][i].append(float(match_coord.groups()[i]))\n",
    "        else:\n",
    "            continue\n",
    "\n",
    "print(\"Threads: \", len(coordinates))\n",
    "n_threads  = len(coordinates)\n"
   ],
   "outputs": [
    {
     "output_type": "stream",
     "name": "stdout",
     "text": [
      "Threads:  128\n"
     ]
    }
   ],
   "metadata": {}
  },
  {
   "cell_type": "markdown",
   "source": [
    "## Displaying light paths in 3D\n"
   ],
   "metadata": {}
  },
  {
   "cell_type": "code",
   "execution_count": 23,
   "source": [
    "\n",
    "ipv.figure()\n",
    "\n",
    "for id in range(0,n_threads,8):\n",
    "    # id = 6\n",
    "    name = str(id)\n",
    "\n",
    "    # print(\"Parameters: \")\n",
    "    # print(\"M: \", params[name][0])\n",
    "    # print(\"a: \", params[name][1])\n",
    "    # print(\"rho: \", params[name][2])\n",
    "    # print(\"b (pphi): \", params[name][3])\n",
    "    # print(\"B: \", params[name][4])\n",
    "\n",
    "    M = float(params[name][0])\n",
    "    a = float(params[name][1])\n",
    "    rho = float(params[name][2])\n",
    "\n",
    "    L = 500\n",
    "    L_iter = 30\n",
    "    phi_iter = 30\n",
    "\n",
    "    x_c, y_c, z_c, _, _, line_lk = gen_metric_links(L, L_iter, phi_iter)\n",
    "\n",
    "    l_arr = np.array(coordinates[name][1])\n",
    "    phi_arr = np.array(coordinates[name][3])\n",
    "    r_arr = np.array([r_l(l) for l in l_arr])\n",
    "\n",
    "    x_arr = r_arr * np.cos(phi_arr)\n",
    "    y_arr = r_arr * np.sin(phi_arr)\n",
    "    z_arr = np.array([z_l(l) for l in l_arr])\n",
    "\n",
    "    ipv.plot_trisurf(x_c, y_c, z_c,\n",
    "            lines=line_lk, color=\"#8100cc\")\n",
    "    ipv.scatter(x_arr,y_arr,z_arr,size=1)\n",
    "\n",
    "ipv.xlim(-400,400)\n",
    "ipv.ylim(-400,400)\n",
    "ipv.zlim(-200,200)\n",
    "ipv.show()\n",
    "\n",
    "# break"
   ],
   "outputs": [
    {
     "output_type": "display_data",
     "data": {
      "application/vnd.jupyter.widget-view+json": {
       "version_major": 2,
       "version_minor": 0,
       "model_id": "538ce2a1f8374b8aadea90a8854dfb42"
      },
      "text/plain": [
       "VBox(children=(Figure(camera=PerspectiveCamera(fov=46.0, position=(0.0, 0.0, 2.0), projectionMatrix=(1.0, 0.0,…"
      ]
     },
     "metadata": {}
    }
   ],
   "metadata": {}
  },
  {
   "cell_type": "markdown",
   "source": [
    "## Showing simulated light path"
   ],
   "metadata": {}
  },
  {
   "cell_type": "code",
   "execution_count": 144,
   "source": [
    "fig, ax = plt.subplots()\n",
    "ax.set_facecolor(\"#333333\")\n",
    "\n",
    "shapes1 = []\n",
    "\n",
    "for l in range(0, L, L_iter):\n",
    "    shapes1.append(Wedge((0,0),l, 0,360, width=1 ))\n",
    "    # colors.append('b')\n",
    "\n",
    "# shapes1.append(Wedge((0,0),rho, 0,360, width=1 ))\n",
    "\n",
    "# colors = 100 * np.random.rand(len(shapes))\n",
    "p = PatchCollection(shapes1, facecolor='#f0f0f0', edgecolor='None')\n",
    "# p1 = PatchCollection([Wedge((0,0),15, 0,360, width=1 )], facecolor='#000000')\n",
    "# p.set_array(colors)\n",
    "ax.add_collection(p)\n",
    "# ax.add_collection(p1)\n",
    "# ax.set_aspect(1)\n",
    "\n",
    "plt.xlim(75,84)\n",
    "plt.ylim(0,0.5)\n",
    "\n",
    "\n",
    "for id in range(0,n_threads):\n",
    "    # id = 6\n",
    "    name = str(id)\n",
    "\n",
    "    # print(\"Parameters: \")\n",
    "    # print(\"M: \", params[name][0])\n",
    "    # print(\"a: \", params[name][1])\n",
    "    # print(\"rho: \", params[name][2])\n",
    "    # print(\"b (pphi): \", params[name][3])\n",
    "    # print(\"B: \", params[name][4])\n",
    "\n",
    "    M = float(params[name][0])\n",
    "    a = float(params[name][1])\n",
    "    rho = float(params[name][2])\n",
    "\n",
    "    l_arr = np.array(coordinates[name][1][:3])\n",
    "    phi_arr = np.array(coordinates[name][3][:3])\n",
    "    r_arr = np.array([r_l(l) for l in l_arr])\n",
    "\n",
    "    x_arr = r_arr * np.cos(phi_arr) \n",
    "    y_arr = r_arr * np.sin(phi_arr)\n",
    "    # z_arr = np.array([z_l(l) for l in l_arr])\n",
    "\n",
    "    plt.plot(x_arr, y_arr,c='#dddddd', lw=0.5)\n",
    "    plt.scatter(x_arr, y_arr, c=['b' if l>0 else 'r' for l in l_arr], s=1)\n",
    "\n",
    "plt.show()"
   ],
   "outputs": [
    {
     "output_type": "stream",
     "name": "stderr",
     "text": [
      "/home/raul/.local/share/virtualenvs/GR-Wormholes-dWY3gXb8/lib/python3.9/site-packages/matplotlib/patches.py:1188: RuntimeWarning: divide by zero encountered in true_divide\n",
      "  v2 = arc.vertices[::-1] * (self.r - self.width) / self.r\n",
      "/home/raul/.local/share/virtualenvs/GR-Wormholes-dWY3gXb8/lib/python3.9/site-packages/matplotlib/patches.py:1188: RuntimeWarning: invalid value encountered in true_divide\n",
      "  v2 = arc.vertices[::-1] * (self.r - self.width) / self.r\n",
      "/home/raul/.local/share/virtualenvs/GR-Wormholes-dWY3gXb8/lib/python3.9/site-packages/matplotlib/patches.py:1201: RuntimeWarning: invalid value encountered in multiply\n",
      "  v *= self.r\n"
     ]
    },
    {
     "output_type": "display_data",
     "data": {
      "image/png": "[encoded data removed]",
      "text/plain": [
       "<Figure size 432x288 with 1 Axes>"
      ]
     },
     "metadata": {
      "needs_background": "light"
     }
    }
   ],
   "metadata": {}
  },
  {
   "cell_type": "code",
   "execution_count": 94,
   "source": [
    "x_arr"
   ],
   "outputs": [
    {
     "output_type": "execute_result",
     "data": {
      "text/plain": [
       "array([ 81.95771196,  80.20284778,  70.852966  ,  55.40633116,\n",
       "        18.34900831,  43.29868959, 139.07290417, 296.25406959,\n",
       "       668.46468838])"
      ]
     },
     "metadata": {},
     "execution_count": 94
    }
   ],
   "metadata": {}
  },
  {
   "cell_type": "code",
   "execution_count": null,
   "source": [],
   "outputs": [],
   "metadata": {}
  }
 ],
 "metadata": {
  "kernelspec": {
   "name": "python3",
   "display_name": "Python 3.9.6 64-bit ('GR-Wormholes-dWY3gXb8': pipenv)"
  },
  "language_info": {
   "codemirror_mode": {
    "name": "ipython",
    "version": 3
   },
   "file_extension": ".py",
   "mimetype": "text/x-python",
   "name": "python",
   "nbconvert_exporter": "python",
   "pygments_lexer": "ipython3",
   "version": "3.9.6"
  },
  "metadata": {
   "interpreter": {
    "hash": "e7370f93d1d0cde622a1f8e1c04877d8463912d04d973331ad4851f04de6915a"
   }
  },
  "orig_nbformat": 2,
  "interpreter": {
   "hash": "4cf675d8d63c5f5b5e3c9af975c2525e159b14cb029d33f882fa161b44c28a5e"
  }
 },
 "nbformat": 4,
 "nbformat_minor": 2
}