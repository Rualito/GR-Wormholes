{
 "cells": [
  {
   "cell_type": "code",
   "execution_count": 1,
   "source": [
    "import numpy as np\n",
    "import matplotlib.pyplot as plt\n",
    "\n",
    "import re\n",
    "\n",
    "filename = \"C-code/integration_results.dat\"\n",
    "n_coords = 3\n"
   ],
   "outputs": [],
   "metadata": {}
  },
  {
   "cell_type": "code",
   "execution_count": 2,
   "source": [
    "coordinates = {}"
   ],
   "outputs": [],
   "metadata": {}
  },
  {
   "cell_type": "code",
   "execution_count": 7,
   "source": [
    "\n",
    "\n",
    "with open(filename, 'r') as rfile:\n",
    "    lines = rfile.readlines()\n",
    "    new_point_pattern = r\"New point coordinate ([0-9]+)\"\n",
    "    basic_coordinates_pattern = r\"(-*[0-9]*\\.*[0-9]*e*[+-]*[0-9]+) \"\n",
    "    coordinates_pattern = \"\"\n",
    "\n",
    "    for i in range(n_coords):\n",
    "        coordinates_pattern += basic_coordinates_pattern\n",
    "    \n",
    "    current_name = \"none\"\n",
    "    for line in lines:\n",
    "        match_point = re.match(new_point_pattern, line)\n",
    "        match_coord = re.match(coordinates_pattern, line)\n",
    "\n",
    "        if match_point: # building the structure to hold the datapoints [ [ti], [xi], ...]\n",
    "            current_name = match_point.groups()[0]\n",
    "            coordinates[current_name] = []\n",
    "            for i in range(n_coords):\n",
    "                coordinates[current_name].append([])\n",
    "            pass\n",
    "        elif match_coord:\n",
    "            if len(match_coord.groups()) != n_coords:\n",
    "                print(\"Coordinate length mismatch \", match_coord.groups())\n",
    "                print(line)\n",
    "                break\n",
    "            for i in range(n_coords):\n",
    "                coordinates[current_name][i].append(float(match_coord.groups()[i]))\n",
    "        else:\n",
    "            continue\n",
    "\n",
    "\n"
   ],
   "outputs": [],
   "metadata": {}
  },
  {
   "cell_type": "code",
   "execution_count": null,
   "source": [
    "coordinates['0'][1]"
   ],
   "outputs": [],
   "metadata": {}
  },
  {
   "cell_type": "code",
   "execution_count": 23,
   "source": [
    "point_name = '5'\n",
    "t_arr = coordinates[point_name][0]\n",
    "x_arr = coordinates[point_name][1]\n",
    "y_arr = coordinates[point_name][2] \n",
    "plt.scatter(t_arr, x_arr)"
   ],
   "outputs": [
    {
     "output_type": "execute_result",
     "data": {
      "text/plain": [
       "<matplotlib.collections.PathCollection at 0x7fdf9535e4f0>"
      ]
     },
     "metadata": {},
     "execution_count": 23
    },
    {
     "output_type": "display_data",
     "data": {
      "image/png": "[encoded data removed]",
      "text/plain": [
       "<Figure size 432x288 with 1 Axes>"
      ]
     },
     "metadata": {
      "needs_background": "light"
     }
    }
   ],
   "metadata": {}
  },
  {
   "cell_type": "code",
   "execution_count": null,
   "source": [],
   "outputs": [],
   "metadata": {}
  }
 ],
 "metadata": {
  "kernelspec": {
   "name": "python3",
   "display_name": "Python 3.9.6 64-bit ('GR-Wormholes-dWY3gXb8': pipenv)"
  },
  "language_info": {
   "codemirror_mode": {
    "name": "ipython",
    "version": 3
   },
   "file_extension": ".py",
   "mimetype": "text/x-python",
   "name": "python",
   "nbconvert_exporter": "python",
   "pygments_lexer": "ipython3",
   "version": "3.9.6"
  },
  "metadata": {
   "interpreter": {
    "hash": "e7370f93d1d0cde622a1f8e1c04877d8463912d04d973331ad4851f04de6915a"
   }
  },
  "orig_nbformat": 2,
  "interpreter": {
   "hash": "4cf675d8d63c5f5b5e3c9af975c2525e159b14cb029d33f882fa161b44c28a5e"
  }
 },
 "nbformat": 4,
 "nbformat_minor": 2
}