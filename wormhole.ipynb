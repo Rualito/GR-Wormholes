{
 "metadata": {
  "language_info": {
   "name": "python",
   "version": "3.9.7",
   "mimetype": "text/x-python",
   "codemirror_mode": {
    "name": "ipython",
    "version": 3
   },
   "pygments_lexer": "ipython3",
   "nbconvert_exporter": "python",
   "file_extension": ".py"
  },
  "orig_nbformat": 4,
  "kernelspec": {
   "name": "python3",
   "display_name": "Python 3.9.7 64-bit ('GR-Wormholes-dWY3gXb8': pipenv)"
  },
  "interpreter": {
   "hash": "4cf675d8d63c5f5b5e3c9af975c2525e159b14cb029d33f882fa161b44c28a5e"
  }
 },
 "nbformat": 4,
 "nbformat_minor": 2,
 "cells": [
  {
   "cell_type": "code",
   "execution_count": 1,
   "source": [
    "from scipy import integrate, interpolate\n",
    "import numpy as np\n",
    "import matplotlib.pyplot as plt\n",
    "import ipyvolume as ipv"
   ],
   "outputs": [],
   "metadata": {}
  },
  {
   "cell_type": "markdown",
   "source": [
    "## TODO\n",
    " - Input parameters, get angle data for horizon (doable in cuda)\n",
    " - Input angle data, 2 images for horizon, get interpolated wormhole image "
   ],
   "metadata": {}
  },
  {
   "cell_type": "markdown",
   "source": [
    "# Simulating a single light path and the space time fabric\n"
   ],
   "metadata": {}
  },
  {
   "cell_type": "code",
   "execution_count": 2,
   "source": [
    "def z_integrand(l):\n",
    "    x = 2/(np.pi*M) * (np.abs(l)-a)\n",
    "    return np.sqrt(1-(2/np.pi)**2*np.arctan(x)**2)\n",
    "\n",
    "def z_l(l):\n",
    "    return integrate.quad(z_integrand, 0, l)[0]\n",
    "\n",
    "def r_l(l):\n",
    "    x = 2*(np.abs(l)-a)/(np.pi*M)\n",
    "    if np.abs(l)>a:\n",
    "        r = rho + M * (x*np.arctan(x) - 1/2*np.log(1+x**2))\n",
    "        # drdl = 2/(np.pi)*np.arctan(x)*np.sign(l) \n",
    "    else:\n",
    "        r = rho\n",
    "    return r"
   ],
   "outputs": [],
   "metadata": {}
  },
  {
   "cell_type": "code",
   "execution_count": 3,
   "source": [
    "rho = 1 # wormhole radius\n",
    "M = 100\n",
    "a = 10\n",
    "\n",
    "\n",
    "l_arr = np.linspace(-100,100, 100)\n",
    "phi_arr = np.linspace(0, 2*np.pi, 10)\n",
    "r_arr = np.array([r_l(l) for l in l_arr]) \n",
    "\n",
    "z_arr = np.array([z_l(l) for l in l_arr])\n",
    "\n",
    "plt.plot(r_arr, z_arr)\n",
    "plt.plot()\n",
    "\n",
    "x_arr = np.array([ r*np.cos(phi) for r, phi in zip(r_arr, phi_arr)])\n",
    "y_arr = np.array([ r*np.sin(phi) for r, phi in zip(r_arr, phi_arr)])\n",
    "\n"
   ],
   "outputs": [
    {
     "output_type": "display_data",
     "data": {
      "image/png": "[encoded data removed]",
      "text/plain": [
       "<Figure size 432x288 with 1 Axes>"
      ]
     },
     "metadata": {
      "needs_background": "light"
     }
    }
   ],
   "metadata": {}
  },
  {
   "cell_type": "code",
   "execution_count": 4,
   "source": [
    "ipv.figure()\n",
    "L = 100\n",
    "L_iter = 30\n",
    "phi_iter = 30\n",
    "x_cord = []\n",
    "y_cord = []\n",
    "z_cord = []\n",
    "\n",
    "for l in np.linspace(-L, L, L_iter):\n",
    "    for phi in np.linspace(0, 2*np.pi, phi_iter):\n",
    "        r = r_l(l)\n",
    "        x = r*np.cos(phi)\n",
    "        y = r*np.sin(phi)\n",
    "        z = z_l(l)\n",
    "        x_cord.append(x)\n",
    "        y_cord.append(y)\n",
    "        z_cord.append(z)\n",
    "\n",
    "triangle_links1 = []\n",
    "triangle_links2 = []\n",
    "line_links = []\n",
    "\n",
    "for j in range(L_iter-1):\n",
    "    for i in range(int(phi_iter)):\n",
    "        N = phi_iter\n",
    "        triangle_links1.append([i+j*N, (i+1)+j*N, i+(j+1)*N])\n",
    "        triangle_links2.append([i+j*N,  (i-1)+(j+1)*N,i+(j+1)*N])\n",
    "\n",
    "        if i+1+j*N <= L_iter*phi_iter:\n",
    "            line_links.append([i+j*N, i+1+j*N])\n",
    "        if i+(j+1)*N <= L_iter*phi_iter:\n",
    "            line_links.append([i+j*N, i+(j+1)*N])\n",
    "\n",
    "# ipv.plot_trisurf(x_cord, y_cord, z_cord,\n",
    "#        triangles=triangle_links1, color=\"#cc00b0\")\n",
    "# ipv.plot_trisurf(x_cord, y_cord, z_cord,\n",
    "#        triangles=triangle_links2, color=\"#cc00b0\")\n",
    "\n",
    "ipv.plot_trisurf(x_cord, y_cord, z_cord,\n",
    "        lines=line_links, color=\"#8100cc\")\n",
    "\n",
    "ipv.show()\n",
    "#ipv.style.axes_off()\n",
    "#ipv.style.box_off()"
   ],
   "outputs": [
    {
     "output_type": "display_data",
     "data": {
      "application/vnd.jupyter.widget-view+json": {
       "version_major": 2,
       "version_minor": 0,
       "model_id": "f02896f0aeae45db90c3f6dd100b8fb1"
      },
      "text/plain": [
       "VBox(children=(Figure(camera=PerspectiveCamera(fov=46.0, position=(0.0, 0.0, 2.0), projectionMatrix=(1.0, 0.0,…"
      ]
     },
     "metadata": {}
    }
   ],
   "metadata": {}
  },
  {
   "cell_type": "code",
   "execution_count": 110,
   "source": [
    "len(x_cord)"
   ],
   "outputs": [
    {
     "output_type": "execute_result",
     "data": {
      "text/plain": [
       "4500"
      ]
     },
     "metadata": {},
     "execution_count": 110
    }
   ],
   "metadata": {}
  },
  {
   "cell_type": "code",
   "execution_count": null,
   "source": [
    "b = 1\n",
    "B = b # plane relative to axis"
   ],
   "outputs": [],
   "metadata": {}
  },
  {
   "cell_type": "code",
   "execution_count": null,
   "source": [],
   "outputs": [],
   "metadata": {}
  },
  {
   "cell_type": "code",
   "execution_count": 42,
   "source": [
    "\n",
    "def wormhole_diff(t, y, b, B):\n",
    "    # y = l, th, phi, pl, pth\n",
    "    l = y[0]\n",
    "    th=y[1]\n",
    "    phi = y[2]\n",
    "    pl = y[3]\n",
    "    pth = y[4]\n",
    "\n",
    "\n",
    "    x = 2*(np.abs(l)-a)/(np.pi*M)\n",
    "    r = r_l(l)\n",
    "    drdl = np.arctan(x)*2/np.pi * np.sign(l)\n",
    "    \n",
    "    sth = np.sin(th)\n",
    "    cth = np.cos(th)\n",
    "    return np.array([ pl, \n",
    "                      pth/r**2,\n",
    "                      b/(r*sth)**2,\n",
    "                      B**2/r**3 * drdl,\n",
    "                      b**2/r**2 * cth/sth**3])\n",
    "                    \n",
    "def solve_wormhole(y0, t_span, b, B):\n",
    "    # returns x(l), y(l), z(l)\n",
    "    res = integrate.solve_ivp(wormhole_diff, t_span=t_span, y0=y0, max_step=5e-3, args=(b, B))\n",
    "    l_arr = res['y'][0]\n",
    "    phi_arr = res['y'][2]\n",
    "    r_arr = np.array([r_l(l) for l in l_arr]) \n",
    "    x_arr = np.array([ r*np.cos(phi) for r, phi in zip(r_arr, phi_arr)])\n",
    "    y_arr = np.array([ r*np.sin(phi) for r, phi in zip(r_arr, phi_arr)])\n",
    "    z_arr = np.array([z_l(l) for l in l_arr])\n",
    "\n",
    "    return (x_arr, y_arr, z_arr)\n"
   ],
   "outputs": [],
   "metadata": {}
  },
  {
   "cell_type": "code",
   "execution_count": 43,
   "source": [
    "\n",
    "\n",
    "l0 = 80\n",
    "th0 = np.pi/2\n",
    "phi0 = 0\n",
    "pl0 = -5\n",
    "pphi0 = 4\n",
    "pth0 = 0\n",
    "y0 = np.array([l0, th0, phi0, pl0, pth0 ])\n",
    "x_arr, y_arr, z_arr = solve_wormhole(y0, (0,100), b=pphi0, B=pphi0)\n",
    "\n"
   ],
   "outputs": [],
   "metadata": {}
  },
  {
   "cell_type": "code",
   "execution_count": 44,
   "source": [
    "fig = ipv.figure()\n",
    "lines = ipv.scatter(x_arr, y_arr, z_arr, size=1)\n",
    "\n",
    "ipv.plot_trisurf(x_cord, y_cord, z_cord,\n",
    "        lines=line_links, color=\"#8100cc\")\n",
    "\n",
    "# ipv.plot_trisurf(x_cord, y_cord, z_cord,\n",
    "#        triangles=triangle_links1, color=\"#cc00b0\")\n",
    "# ipv.plot_trisurf(x_cord, y_cord, z_cord,\n",
    "    #    triangles=triangle_links2, color=\"#cc00b0\")\n",
    "\n",
    "ipv.xlim(-5,5)\n",
    "ipv.ylim(-5,5)\n",
    "ipv.zlim(-30,30)\n",
    "ipv.style.axes_off()\n",
    "ipv.style.box_off()\n",
    "ipv.show()"
   ],
   "outputs": [
    {
     "output_type": "display_data",
     "data": {
      "application/vnd.jupyter.widget-view+json": {
       "version_major": 2,
       "version_minor": 0,
       "model_id": "59f5dc464a514d99b70867601a7d11f3"
      },
      "text/plain": [
       "VBox(children=(Figure(camera=PerspectiveCamera(fov=46.0, position=(0.0, 0.0, 2.0), projectionMatrix=(1.0, 0.0,…"
      ]
     },
     "metadata": {}
    }
   ],
   "metadata": {}
  },
  {
   "cell_type": "markdown",
   "source": [
    "# Simulating visuals"
   ],
   "metadata": {}
  },
  {
   "cell_type": "code",
   "execution_count": 61,
   "source": [
    "L = 100\n",
    "L_iter = 30\n",
    "phi_iter = 30"
   ],
   "outputs": [],
   "metadata": {}
  },
  {
   "cell_type": "code",
   "execution_count": 2,
   "source": [
    "class WormholeObserver:\n",
    "    def __init__(self, M, a, rho, l0, phi0=0, th0=np.pi/2, pl0=1, pphi0=0, pth0=0, preload_metric=False, maxL=100, iterL=30, iterphi=30):\n",
    "        self.b = pphi0\n",
    "        self.B = np.sqrt(pth0**2+pphi0**2/np.sin(th0)**2)\n",
    "\n",
    "        self.M = M\n",
    "        self.a = a\n",
    "        self.rho = rho\n",
    "\n",
    "        self.y0 = np.array([l0, th0, phi0, pl0, pth0])\n",
    "        self.metricLoaded=False\n",
    "        self.pathSolved=False\n",
    "        if (preload_metric):\n",
    "            self.preloadMetric()\n",
    "\n",
    "    def loadMetric(self, maxL=100, iterL:int=30, iterphi:int=30):\n",
    "        self.x_cord = []\n",
    "        self.y_cord = []\n",
    "        self.z_cord = []\n",
    "\n",
    "        for l in np.linspace(-maxL, maxL, iterL):\n",
    "            for phi in np.linspace(0, 2*np.pi, iterphi):\n",
    "                r = self.r_l(l)\n",
    "                x = r*np.cos(phi)\n",
    "                y = r*np.sin(phi)\n",
    "                z = self.z_l(l)\n",
    "                self.x_cord.append(x)\n",
    "                self.y_cord.append(y)\n",
    "                self.z_cord.append(z)\n",
    "\n",
    "        self.triangle_links = []\n",
    "        self.line_links = []\n",
    "\n",
    "        for j in range(iterL-1):\n",
    "            for i in range(iterphi):\n",
    "                N = iterphi\n",
    "                self.triangle_links.append([i+j*N, (i+1)+j*N, i+(j+1)*N])\n",
    "                self.triangle_links.append([i+j*N,  (i-1)+(j+1)*N,i+(j+1)*N])\n",
    "\n",
    "                if i+1+j*N <= iterL*iterphi:\n",
    "                    self.line_links.append([i+j*N, i+1+j*N])\n",
    "                if i+(j+1)*N <= iterL*iterphi:\n",
    "                    self.line_links.append([i+j*N, i+(j+1)*N])\n",
    "        self.metricLoaded = True \n",
    "\n",
    "    def light_particle(self, l0, phi0=0, th0=np.pi/2, pl0=1, pphi0=0, pth0=0):\n",
    "        self.b = pphi0\n",
    "        self.B = np.sqrt(pth0**2+pphi0**2/np.sin(th0)**2)\n",
    "\n",
    "        self.y0 = np.array([l0, th0, phi0, pl0, pth0])\n",
    "        self.pathSolved=False\n",
    "\n",
    "    def equations(self, t, y):\n",
    "        l  = y[0]\n",
    "        th = y[1]\n",
    "        phi= y[2]\n",
    "        pl = y[3]\n",
    "        pth= y[4]\n",
    "\n",
    "        x = 2*(np.abs(l)-self.a)/(np.pi*self.M)\n",
    "        r = self.r_l(l)\n",
    "        drdl = 2/(np.pi)*np.arctan(x)*np.sign(l) \n",
    "        \n",
    "        sth = np.sin(th)\n",
    "        cth = np.cos(th)\n",
    "        return np.array([ pl, \n",
    "                        pth/r**2,\n",
    "                        self.b/(r*sth)**2,\n",
    "                        self.B**2/r**3 * drdl,\n",
    "                        self.b**2/r**2 * cth/sth**3])\n",
    "    def r_l(self, l):\n",
    "        x = 2*(np.abs(l)-self.a)/(np.pi*self.M)\n",
    "        r = 1\n",
    "        if np.abs(l)>self.a:\n",
    "            r = self.rho + self.M * (x*np.arctan(x) - 1/2*np.log(1+x**2)) \n",
    "        else:\n",
    "            r = self.rho\n",
    "        return r\n",
    "    \n",
    "    def z_integrand(self, l):\n",
    "        x = 2/(np.pi*self.M) * (np.abs(l)-self.a)\n",
    "        return np.sqrt(1-(2/np.pi)**2*np.arctan(x)**2)\n",
    "\n",
    "    def z_l(self,l):\n",
    "        return integrate.quad(self.z_integrand, 0, l)[0]\n",
    "\n",
    "    def plot_path(self, lines=True, surface=False, lineColor=\"#8100cc\", surfaceColor=\"#cc00b0\", markerSize=0.5):\n",
    "        if(not self.metricLoaded):\n",
    "            self.loadMetric()\n",
    "\n",
    "        if(surface):\n",
    "            # draw surface\n",
    "            ipv.plot_trisurf(self.x_cord, self.y_cord, self.z_cord,\n",
    "                triangles=self.triangle_links, color=surfaceColor)\n",
    "        if(lines):\n",
    "            # draw lines\n",
    "            ipv.plot_trisurf(self.x_cord, self.y_cord, self.z_cord,\n",
    "                    lines=self.line_links, color=lineColor)\n",
    "        if(self.pathSolved):\n",
    "            lines = ipv.scatter(self.x_arr, self.y_arr, self.z_arr, size=markerSize)\n",
    "\n",
    "\n",
    "    def solve_wormhole(self, t_span, max_step=1e-2):\n",
    "        # returns x(l), y(l), z(l)\n",
    "        res = integrate.solve_ivp(self.equations, t_span=t_span, y0=self.y0, max_step=max_step)\n",
    "        l_arr = res['y'][0]\n",
    "        phi_arr = res['y'][2]\n",
    "        r_arr = np.array([self.r_l(l) for l in l_arr]) \n",
    "        self.x_arr = np.array([ r*np.cos(phi) for r, phi in zip(r_arr, phi_arr)])\n",
    "        self.y_arr = np.array([ r*np.sin(phi) for r, phi in zip(r_arr, phi_arr)])\n",
    "        self.z_arr = np.array([self.z_l(l) for l in l_arr])\n",
    "        self.pathSolved=True\n",
    "        return (self.x_arr, self.y_arr, self.z_arr)\n",
    "          \n",
    "\n",
    "\n",
    "def propagate_wormhole(observer, L_max, t_step=1e-2):\n",
    "    # returns x(l), y(l), z(l)\n",
    "    t = 0 # t0=0\n",
    "    res = 0\n",
    "    y0 = observer.y0\n",
    "    while np.abs(y0[0])<L_max:\n",
    "        res = integrate.RK45(observer.equations, y0=y0, t0=t, t_bound=t+t_step)\n",
    "        res.step()\n",
    "        y0 = res.dense_output()(t+t_step)\n",
    "        t = t+t_step\n",
    "    return (t, y0)"
   ],
   "outputs": [],
   "metadata": {}
  },
  {
   "cell_type": "code",
   "execution_count": 3,
   "source": [
    "wormhole_params = {'M':2, 'a':0, 'rho':15}\n",
    "observer_position = {'l0':50, 'phi0':0,'th0':np.pi/2}\n",
    "\n",
    "observer_orientation={'phi':np.pi*5/6, 'th':np.pi/2}\n",
    "p=1\n",
    "observer_light_momentum = {'pl0':p*np.sin(observer_orientation['th'])*np.cos(observer_orientation['phi']), 'pphi0':p*np.sin(observer_orientation['th'])*np.sin(observer_orientation['phi']), 'pth0':p*np.cos(observer_orientation['th'])}\n",
    "\n",
    "observer = WormholeObserver(**wormhole_params, **observer_position, **observer_light_momentum)\n",
    "observer.loadMetric()"
   ],
   "outputs": [],
   "metadata": {}
  },
  {
   "cell_type": "code",
   "execution_count": 12,
   "source": [
    "observer_orientation={'phi':np.pi*26/48, 'th':np.pi/2}\n",
    "p=1\n",
    "observer_light_momentum = {'pl0':p*np.sin(observer_orientation['th'])*np.cos(observer_orientation['phi']), 'pphi0':p*np.sin(observer_orientation['th'])*np.sin(observer_orientation['phi']), 'pth0':p*np.cos(observer_orientation['th'])}\n",
    "\n",
    "observer.light_particle(**observer_position, **observer_light_momentum)"
   ],
   "outputs": [],
   "metadata": {}
  },
  {
   "cell_type": "code",
   "execution_count": 13,
   "source": [
    "\n",
    "observer.solve_wormhole(t_span=(0,300))\n",
    "\n",
    "ipv.figure()\n",
    "observer.plot_path(surface=True)\n",
    "ipv.show()"
   ],
   "outputs": [
    {
     "output_type": "display_data",
     "data": {
      "application/vnd.jupyter.widget-view+json": {
       "version_major": 2,
       "version_minor": 0,
       "model_id": "4e9399ab71c245ec88041a82198b3d8e"
      },
      "text/plain": [
       "VBox(children=(Figure(camera=PerspectiveCamera(fov=46.0, position=(0.0, 0.0, 2.0), projectionMatrix=(1.0, 0.0,…"
      ]
     },
     "metadata": {}
    }
   ],
   "metadata": {}
  },
  {
   "cell_type": "code",
   "execution_count": 3,
   "source": [
    "\n",
    "\n",
    "l0 = 80\n",
    "th0 = np.pi/2\n",
    "phi0 = 0\n",
    "pl0 = -5\n",
    "pphi0 = 4\n",
    "pth0 = 0\n",
    "y0 = np.array([l0, th0, phi0, pl0, pth0 ])\n",
    "# x_arr, y_arr, z_arr = solve_wormhole(y0, (0,100), b=pphi0, B=pphi0)\n",
    "b=pphi0\n",
    "B=pphi0\n",
    "\n",
    "t = 0 # t0=0\n",
    "t_step = 1e-2\n",
    "res = integrate.RK45(wormhole_diff, y0=y0, t0=t, t_bound=t+t_step, max_step=t_step)\n",
    "res.step()\n",
    "result = res.dense_output()(t+t_step)\n"
   ],
   "outputs": [
    {
     "output_type": "error",
     "ename": "NameError",
     "evalue": "name 'wormhole_diff' is not defined",
     "traceback": [
      "\u001b[1;31m---------------------------------------------------------------------------\u001b[0m",
      "\u001b[1;31mNameError\u001b[0m                                 Traceback (most recent call last)",
      "\u001b[1;32m~\\AppData\\Local\\Temp/ipykernel_5028/1303661637.py\u001b[0m in \u001b[0;36m<module>\u001b[1;34m\u001b[0m\n\u001b[0;32m     12\u001b[0m \u001b[0mt\u001b[0m \u001b[1;33m=\u001b[0m \u001b[1;36m0\u001b[0m \u001b[1;31m# t0=0\u001b[0m\u001b[1;33m\u001b[0m\u001b[1;33m\u001b[0m\u001b[0m\n\u001b[0;32m     13\u001b[0m \u001b[0mt_step\u001b[0m \u001b[1;33m=\u001b[0m \u001b[1;36m1e-2\u001b[0m\u001b[1;33m\u001b[0m\u001b[1;33m\u001b[0m\u001b[0m\n\u001b[1;32m---> 14\u001b[1;33m \u001b[0mres\u001b[0m \u001b[1;33m=\u001b[0m \u001b[0mintegrate\u001b[0m\u001b[1;33m.\u001b[0m\u001b[0mRK45\u001b[0m\u001b[1;33m(\u001b[0m\u001b[0mwormhole_diff\u001b[0m\u001b[1;33m,\u001b[0m \u001b[0my0\u001b[0m\u001b[1;33m=\u001b[0m\u001b[0my0\u001b[0m\u001b[1;33m,\u001b[0m \u001b[0mt0\u001b[0m\u001b[1;33m=\u001b[0m\u001b[0mt\u001b[0m\u001b[1;33m,\u001b[0m \u001b[0mt_bound\u001b[0m\u001b[1;33m=\u001b[0m\u001b[0mt\u001b[0m\u001b[1;33m+\u001b[0m\u001b[0mt_step\u001b[0m\u001b[1;33m,\u001b[0m \u001b[0mmax_step\u001b[0m\u001b[1;33m=\u001b[0m\u001b[0mt_step\u001b[0m\u001b[1;33m)\u001b[0m\u001b[1;33m\u001b[0m\u001b[1;33m\u001b[0m\u001b[0m\n\u001b[0m\u001b[0;32m     15\u001b[0m \u001b[0mres\u001b[0m\u001b[1;33m.\u001b[0m\u001b[0mstep\u001b[0m\u001b[1;33m(\u001b[0m\u001b[1;33m)\u001b[0m\u001b[1;33m\u001b[0m\u001b[1;33m\u001b[0m\u001b[0m\n\u001b[0;32m     16\u001b[0m \u001b[0mresult\u001b[0m \u001b[1;33m=\u001b[0m \u001b[0mres\u001b[0m\u001b[1;33m.\u001b[0m\u001b[0mdense_output\u001b[0m\u001b[1;33m(\u001b[0m\u001b[1;33m)\u001b[0m\u001b[1;33m(\u001b[0m\u001b[0mt\u001b[0m\u001b[1;33m+\u001b[0m\u001b[0mt_step\u001b[0m\u001b[1;33m)\u001b[0m\u001b[1;33m\u001b[0m\u001b[1;33m\u001b[0m\u001b[0m\n",
      "\u001b[1;31mNameError\u001b[0m: name 'wormhole_diff' is not defined"
     ]
    }
   ],
   "metadata": {}
  },
  {
   "cell_type": "code",
   "execution_count": 41,
   "source": [
    "wormhole_params = {'M':100, 'a':10, 'rho':10}\n",
    "observer_position = {'l0':100, 'phi0':0,'th0':np.pi/2}\n",
    "\n",
    "observer_orientation={'phi':np.pi, 'th':np.pi/2}\n",
    "p=1\n",
    "observer_light_momentum = {'pl0':p*np.sin(observer_orientation['th'])*np.cos(observer_orientation['phi']), 'pphi0':p*np.sin(observer_orientation['th'])*np.sin(observer_orientation['phi']), 'pth0':p*np.cos(observer_orientation['th'])}\n",
    "\n",
    "observer = WormholeObserver(**wormhole_params, **observer_position, **observer_light_momentum)\n",
    "\n"
   ],
   "outputs": [],
   "metadata": {}
  },
  {
   "cell_type": "code",
   "execution_count": 69,
   "source": [
    "import multiprocessing as mp\n",
    "\n",
    "phi_range = np.linspace(-np.pi/3,np.pi/3, 60) # 120º angle range\n",
    "th_range = np.linspace(-np.pi/4, np.pi/4, 60) # 90º angle range\n",
    "\n",
    "# phi1_arr, th1_arr, sl_arr,  index\n",
    "def thread_wormhole(observer, th, phi_range):\n",
    "    print(f\"hi {index}\")\n",
    "    local_phi1 = []\n",
    "    local_th1 = []\n",
    "    local_sl = []\n",
    "    for i,phi in enumerate(phi_range):\n",
    "        # pos_i = index+i\n",
    "        observer_orientation={'phi':phi, 'th':th}\n",
    "        observer_light_momentum = {'pl0':np.sin(observer_orientation['th'])*np.cos(observer_orientation['phi']), \n",
    "        'pphi0':np.sin(observer_orientation['th'])*np.sin(observer_orientation['phi']), \n",
    "        'pth0':np.cos(observer_orientation['th'])}\n",
    "        observer.light_particle(**observer_position, **observer_light_momentum)\n",
    "\n",
    "        res = propagate_wormhole(observer, 1000, t_step=5)[1]\n",
    "        # phi_arr.append(phi)\n",
    "        # th_arr.append(th)\n",
    "\n",
    "        local_phi1.append(res[1])\n",
    "        local_th1.append(res[2])\n",
    "        local_sl.append(np.sign(res[0]))\n",
    "        # phi1_arr[pos_i]=res[1]\n",
    "        # th1_arr[pos_i]=res[2]\n",
    "        # sl_arr[pos_i]=np.sign(res[0])\n",
    "    return local_phi1, local_th1, local_sl\n",
    "\n"
   ],
   "outputs": [],
   "metadata": {}
  },
  {
   "cell_type": "code",
   "execution_count": 76,
   "source": [
    "phi_arr = []\n",
    "th_arr = []\n",
    "phi1_arr = []\n",
    "th1_arr = []\n",
    "sl_arr = []\n",
    "\n",
    "processes = []\n",
    "index = 0\n",
    "\n",
    "observer = WormholeObserver(**wormhole_params, **observer_position, **observer_light_momentum)\n",
    "\n",
    "pool = mp.Pool(processes=len(th_range))\n",
    "current_results = []\n",
    "for i,th in enumerate(th_range):\n",
    "    for phi in phi_range:\n",
    "        phi_arr.append(phi)\n",
    "        th_arr.append(th)\n",
    "        phi1_arr.append(None)\n",
    "        th1_arr.append(None)\n",
    "        sl_arr.append(None)\n",
    "\n",
    "    current_results.append(pool.apply_async(thread_wormhole, args=(observer, th, phi_range)))\n",
    "\n",
    "    # processes.append(mp.Process(target=thread_wormhole, args=(observer, th, phi_range, phi1_arr, th1_arr, sl_arr, i*len(phi_range))))\n",
    "\n",
    "# for p in processes:\n",
    "#     p.start()\n",
    "\n",
    "# for p in processes:\n",
    "#     p.join()"
   ],
   "outputs": [],
   "metadata": {}
  },
  {
   "cell_type": "code",
   "execution_count": 75,
   "source": [
    "output = [p.get() for p in current_results]"
   ],
   "outputs": [
    {
     "output_type": "error",
     "ename": "NameError",
     "evalue": "name 'results' is not defined",
     "traceback": [
      "\u001b[1;31m---------------------------------------------------------------------------\u001b[0m",
      "\u001b[1;31mNameError\u001b[0m                                 Traceback (most recent call last)",
      "\u001b[1;32m~\\AppData\\Local\\Temp/ipykernel_4928/2693555175.py\u001b[0m in \u001b[0;36m<module>\u001b[1;34m\u001b[0m\n\u001b[1;32m----> 1\u001b[1;33m \u001b[0moutput\u001b[0m \u001b[1;33m=\u001b[0m \u001b[1;33m[\u001b[0m\u001b[0mp\u001b[0m\u001b[1;33m.\u001b[0m\u001b[0mget\u001b[0m\u001b[1;33m(\u001b[0m\u001b[1;33m)\u001b[0m \u001b[1;32mfor\u001b[0m \u001b[0mp\u001b[0m \u001b[1;32min\u001b[0m \u001b[0mresults\u001b[0m\u001b[1;33m]\u001b[0m\u001b[1;33m\u001b[0m\u001b[1;33m\u001b[0m\u001b[0m\n\u001b[0m",
      "\u001b[1;31mNameError\u001b[0m: name 'results' is not defined"
     ]
    }
   ],
   "metadata": {}
  },
  {
   "cell_type": "code",
   "execution_count": 73,
   "source": [
    "c = 0\n",
    "for p1 in phi1_arr:\n",
    "    if not p1:\n",
    "        c+=1\n",
    "print(c)"
   ],
   "outputs": [
    {
     "output_type": "stream",
     "name": "stdout",
     "text": [
      "3600\n"
     ]
    }
   ],
   "metadata": {
    "tags": []
   }
  },
  {
   "cell_type": "code",
   "execution_count": 67,
   "source": [
    "thread_wormhole(observer, th, phi_range, phi1_arr, th1_arr, sl_arr, i*len(phi_range))"
   ],
   "outputs": [
    {
     "output_type": "stream",
     "name": "stdout",
     "text": [
      "hi 3540\n"
     ]
    }
   ],
   "metadata": {}
  },
  {
   "cell_type": "code",
   "execution_count": null,
   "source": [],
   "outputs": [],
   "metadata": {}
  },
  {
   "cell_type": "code",
   "execution_count": 16,
   "source": [
    "phi_arr = []\n",
    "th_arr = []\n",
    "phi1_arr = []\n",
    "th1_arr = []\n",
    "sign_l_arr = []\n",
    "\n",
    "wormhole_params = {'M':2, 'a':0, 'rho':5}\n",
    "observer_position = {'l0':100, 'phi0':0,'th0':np.pi/2}\n",
    "\n",
    "observer_orientation={'phi':np.pi, 'th':np.pi/2}\n",
    "p=1\n",
    "observer_light_momentum = {'pl0':p*np.sin(observer_orientation['th'])*np.cos(observer_orientation['phi']), 'pphi0':p*np.sin(observer_orientation['th'])*np.sin(observer_orientation['phi']), 'pth0':p*np.cos(observer_orientation['th'])}\n",
    "\n",
    "observer = WormholeObserver(**wormhole_params, **observer_position, **observer_light_momentum)\n",
    "th = np.pi/2\n",
    "for phi in np.linspace(-np.pi, np.pi, 1080):\n",
    "    #print(f\"Calculating ({th}, {phi})\")\n",
    "    observer_orientation={'phi':phi, 'th':th}\n",
    "    observer_light_momentum = {'pl0':np.sin(observer_orientation['th'])*np.cos(observer_orientation['phi']),\n",
    "    'pphi0':np.sin(observer_orientation['th'])*np.sin(observer_orientation['phi']), \n",
    "    'pth0':np.cos(observer_orientation['th'])}\n",
    "\n",
    "    observer.light_particle(**observer_position, **observer_light_momentum)\n",
    "\n",
    "    res = propagate_wormhole(observer, 500, t_step=0.5)[1]\n",
    "    phi_arr.append(phi)\n",
    "    th_arr.append(th)\n",
    "\n",
    "    # this is switched around phi1 <-> th1\n",
    "    phi1_arr.append(res[1])\n",
    "    th1_arr.append(res[2])\n",
    "    sign_l_arr.append(np.sign(res[0]))\n",
    "    \n",
    "    "
   ],
   "outputs": [],
   "metadata": {
    "tags": []
   }
  },
  {
   "cell_type": "code",
   "execution_count": 17,
   "source": [
    "with open(\"phi_data4.dat\", 'w') as file_:\n",
    "    file_.write(\"th\\tphi\\tth1\\tphi1\\tsign_l\\n\")\n",
    "    for th, phi, th1, phi1, sign_l in zip(th_arr, phi_arr, th1_arr,  phi1_arr, sign_l_arr):\n",
    "        file_.write(f\"{th}\\t{phi}\\t{th1}\\t{phi1}\\t{sign_l}\\n\")"
   ],
   "outputs": [],
   "metadata": {}
  },
  {
   "cell_type": "code",
   "execution_count": 18,
   "source": [
    "observer.solve_wormhole(t_span=(0,100))\n",
    "\n",
    "ipv.figure()\n",
    "observer.plot_path()\n",
    "ipv.show()"
   ],
   "outputs": [
    {
     "output_type": "display_data",
     "data": {
      "application/vnd.jupyter.widget-view+json": {
       "version_major": 2,
       "version_minor": 0,
       "model_id": "86e0777c836c4545b7822da7d4c3898a"
      },
      "text/plain": [
       "VBox(children=(Figure(camera=PerspectiveCamera(fov=46.0, position=(0.0, 0.0, 2.0), projectionMatrix=(1.0, 0.0,…"
      ]
     },
     "metadata": {}
    }
   ],
   "metadata": {}
  },
  {
   "cell_type": "code",
   "execution_count": 104,
   "source": [
    "propagate_wormhole(observer, 1000, t_step=1)[1]\n",
    "# now we need to calculate this for a whole range of angles to generate a longitude-lattitude image\n",
    "# CUDA would help here, but we can cram it for a single one"
   ],
   "outputs": [
    {
     "output_type": "error",
     "ename": "TypeError",
     "evalue": "'numpy.ndarray' object is not callable",
     "traceback": [
      "\u001b[1;31m---------------------------------------------------------------------------\u001b[0m",
      "\u001b[1;31mTypeError\u001b[0m                                 Traceback (most recent call last)",
      "\u001b[1;32m~\\AppData\\Local\\Temp/ipykernel_18152/1545539550.py\u001b[0m in \u001b[0;36m<module>\u001b[1;34m\u001b[0m\n\u001b[1;32m----> 1\u001b[1;33m \u001b[0mpropagate_wormhole\u001b[0m\u001b[1;33m(\u001b[0m\u001b[0mobserver\u001b[0m\u001b[1;33m,\u001b[0m \u001b[1;36m1000\u001b[0m\u001b[1;33m,\u001b[0m \u001b[0mt_step\u001b[0m\u001b[1;33m=\u001b[0m\u001b[1;36m1\u001b[0m\u001b[1;33m)\u001b[0m\u001b[1;33m[\u001b[0m\u001b[1;36m1\u001b[0m\u001b[1;33m]\u001b[0m\u001b[1;33m(\u001b[0m\u001b[1;33m[\u001b[0m\u001b[1;36m1\u001b[0m\u001b[1;33m]\u001b[0m\u001b[1;33m,\u001b[0m\u001b[1;33m[\u001b[0m\u001b[1;36m2\u001b[0m\u001b[1;33m]\u001b[0m\u001b[1;33m)\u001b[0m\u001b[1;33m\u001b[0m\u001b[1;33m\u001b[0m\u001b[0m\n\u001b[0m\u001b[0;32m      2\u001b[0m \u001b[1;31m# now we need to calculate this for a whole range of angles to generate a longitude-lattitude image\u001b[0m\u001b[1;33m\u001b[0m\u001b[1;33m\u001b[0m\u001b[1;33m\u001b[0m\u001b[0m\n\u001b[0;32m      3\u001b[0m \u001b[1;31m# CUDA would help here, but we can cram it for a single one\u001b[0m\u001b[1;33m\u001b[0m\u001b[1;33m\u001b[0m\u001b[1;33m\u001b[0m\u001b[0m\n",
      "\u001b[1;31mTypeError\u001b[0m: 'numpy.ndarray' object is not callable"
     ]
    }
   ],
   "metadata": {}
  },
  {
   "cell_type": "code",
   "execution_count": 5,
   "source": [
    "import re\n",
    "\n",
    "th0_arr = []\n",
    "phi0_arr = []\n",
    "th1_arr = []\n",
    "phi1_arr = []\n",
    "sl_arr = []\n",
    "with open(\"angle_data4.dat\", 'r') as rfile:\n",
    "    lines = rfile.readlines()\n",
    "    re_patt = r\"([0-9].[0-9]+)\\t([0-9].[0-9]+)\\t([0-9].[0-9]+)\\t([0-9].[0-9]+)\\t([0-9].[0-9]+)\"\n",
    "    # pattern = re.compile(re_patt)\n",
    "    for line in lines:\n",
    "        matches = re.match(re_patt, line)\n",
    "        if not matches:\n",
    "            continue\n",
    "        th0 = float(matches.groups()[0])\n",
    "        phi0 = float(matches.groups()[1])\n",
    "        th1 = float(matches.groups()[2])\n",
    "        phi1 = float(matches.groups()[3])\n",
    "        sl = float(matches.groups()[4]) \n",
    "        th0_arr.append(th0)\n",
    "        phi0_arr.append(phi0)\n",
    "        th1_arr.append(th1)\n",
    "        phi1_arr.append(phi1)\n",
    "        sl_arr.append(sl)"
   ],
   "outputs": [],
   "metadata": {
    "tags": []
   }
  },
  {
   "cell_type": "code",
   "execution_count": 34,
   "source": [
    "print(result.group())"
   ],
   "outputs": [
    {
     "output_type": "stream",
     "name": "stdout",
     "text": [
      "0.7454626635636797\t0.0\t0.0\t1.826058577842795\t1.0\n",
      "\n"
     ]
    }
   ],
   "metadata": {}
  },
  {
   "cell_type": "code",
   "execution_count": 13,
   "source": [],
   "outputs": [],
   "metadata": {}
  },
  {
   "cell_type": "code",
   "execution_count": 50,
   "source": [
    "f_all([ [0,0], [1,1]])"
   ],
   "outputs": [
    {
     "output_type": "execute_result",
     "data": {
      "text/plain": [
       "array([[-6.28386232e-13,  6.07678109e+00,  1.00000000e+00],\n",
       "       [ 3.73124337e-01,  1.84274032e+00,  1.00000000e+00]])"
      ]
     },
     "metadata": {},
     "execution_count": 50
    }
   ],
   "metadata": {}
  },
  {
   "cell_type": "code",
   "execution_count": 14,
   "source": [
    "\n",
    "\n",
    "galaxy_arr = np.array(Image.open(\"galaxy_horizon.jpg\")) # wormhole background\n",
    "saturn_arr = np.array(Image.open(\"saturn_horizon.jpg\")) # normal background\n",
    "\n",
    "\n"
   ],
   "outputs": [
    {
     "output_type": "error",
     "ename": "NameError",
     "evalue": "name 'Image' is not defined",
     "traceback": [
      "\u001b[1;31m---------------------------------------------------------------------------\u001b[0m",
      "\u001b[1;31mNameError\u001b[0m                                 Traceback (most recent call last)",
      "\u001b[1;32m~\\AppData\\Local\\Temp/ipykernel_4928/1551656806.py\u001b[0m in \u001b[0;36m<module>\u001b[1;34m\u001b[0m\n\u001b[1;32m----> 1\u001b[1;33m \u001b[0mgalaxy_arr\u001b[0m \u001b[1;33m=\u001b[0m \u001b[0mnp\u001b[0m\u001b[1;33m.\u001b[0m\u001b[0marray\u001b[0m\u001b[1;33m(\u001b[0m\u001b[0mImage\u001b[0m\u001b[1;33m.\u001b[0m\u001b[0mopen\u001b[0m\u001b[1;33m(\u001b[0m\u001b[1;34m\"galaxy_horizon.jpg\"\u001b[0m\u001b[1;33m)\u001b[0m\u001b[1;33m)\u001b[0m \u001b[1;31m# wormhole background\u001b[0m\u001b[1;33m\u001b[0m\u001b[1;33m\u001b[0m\u001b[0m\n\u001b[0m\u001b[0;32m      2\u001b[0m \u001b[0msaturn_arr\u001b[0m \u001b[1;33m=\u001b[0m \u001b[0mnp\u001b[0m\u001b[1;33m.\u001b[0m\u001b[0marray\u001b[0m\u001b[1;33m(\u001b[0m\u001b[0mImage\u001b[0m\u001b[1;33m.\u001b[0m\u001b[0mopen\u001b[0m\u001b[1;33m(\u001b[0m\u001b[1;34m\"saturn_horizon.jpg\"\u001b[0m\u001b[1;33m)\u001b[0m\u001b[1;33m)\u001b[0m \u001b[1;31m# normal background\u001b[0m\u001b[1;33m\u001b[0m\u001b[1;33m\u001b[0m\u001b[0m\n\u001b[0;32m      3\u001b[0m \u001b[1;33m\u001b[0m\u001b[0m\n\u001b[0;32m      4\u001b[0m \u001b[1;33m\u001b[0m\u001b[0m\n",
      "\u001b[1;31mNameError\u001b[0m: name 'Image' is not defined"
     ]
    }
   ],
   "metadata": {}
  },
  {
   "cell_type": "code",
   "execution_count": 132,
   "source": [
    "len(galaxy_arr[0][0])"
   ],
   "outputs": [
    {
     "output_type": "execute_result",
     "data": {
      "text/plain": [
       "3"
      ]
     },
     "metadata": {},
     "execution_count": 132
    }
   ],
   "metadata": {}
  },
  {
   "cell_type": "markdown",
   "source": [
    "# Generating image"
   ],
   "metadata": {}
  },
  {
   "cell_type": "code",
   "execution_count": 46,
   "source": [
    "import re\n",
    "\n",
    "th0_arr = []\n",
    "phi0_arr = []\n",
    "th1_arr = []\n",
    "phi1_arr = []\n",
    "sl_arr = []\n",
    "failed = 0\n",
    "with open(\"angle_data5.dat\", 'r') as rfile:\n",
    "    lines = rfile.readlines()\n",
    "    re_patt = r\"([0-9]+.[0-9]+)\\t([0-9]+.[0-9]+)\\t(-*[0-9]*.[0-9]*e*[+-]*[0-9]+)\\t(-*[0-9]*.[0-9]*e*[+-]*[0-9]+)\\t(-*[01].0)\"\n",
    "    # pattern = re.compile(re_patt)\n",
    "    for line in lines:\n",
    "        matches = re.match(re_patt, line)\n",
    "        if not matches:\n",
    "            failed +=1\n",
    "            continue\n",
    "        th0 = float(matches.groups()[0])\n",
    "        phi0 = float(matches.groups()[1])\n",
    "        th1 = float(matches.groups()[2])\n",
    "        phi1 = float(matches.groups()[3])\n",
    "        sl = float(matches.groups()[4]) \n",
    "        th0_arr.append(th0)\n",
    "        phi0_arr.append(phi0)\n",
    "        th1_arr.append(th1)\n",
    "        phi1_arr.append(phi1)\n",
    "        sl_arr.append(sl)\n"
   ],
   "outputs": [],
   "metadata": {}
  },
  {
   "cell_type": "code",
   "execution_count": 9,
   "source": [
    "count = 0\n",
    "for i in range(len(sl_arr)):\n",
    "    if sl_arr[i] < 0:\n",
    "        count+=1\n",
    "print(count)"
   ],
   "outputs": [
    {
     "output_type": "stream",
     "name": "stdout",
     "text": [
      "772\n"
     ]
    }
   ],
   "metadata": {}
  },
  {
   "cell_type": "code",
   "execution_count": 65,
   "source": [
    "from PIL import Image\n",
    "import numpy as np\n",
    "from scipy import integrate, interpolate\n",
    "def where_on_interval(x, x_min, x_max):\n",
    "    return ((x-x_min) / (x_max-x_min)) % 1.0\n",
    "\n",
    "class BackgroundImage:\n",
    "    def __init__(self, filename):\n",
    "        self.image_arr = np.array(Image.open(filename))\n",
    "        self.th_max = len(self.image_arr)\n",
    "        self.phi_max = len(self.image_arr[0])\n",
    "        # self.phi_arr = np.linspace(-np.pi, np.pi, self.phi_max)\n",
    "        # self.th_arr = np.linspace(np.pi, 0, self.th_max)\n",
    "    def get_pixel_from_angle(self, phi, th):\n",
    "        # input: phi [-pi, pi]; th [0, pi]\n",
    "        x = where_on_interval(phi, -np.pi, np.pi)\n",
    "        # x = (phi+np.pi)/(2*np.pi) # normalised from 0-1\n",
    "        y = where_on_interval(th, 0, np.pi)\n",
    "        # print(f\"{x=}, {y=}\\n\")\n",
    "        # print(f\"int: {int(y*self.th_max)}, {int(x*self.phi_max)}\")\n",
    "        return self.image_arr[int(y*(self.th_max-1))][int(x*(self.phi_max-1))]"
   ],
   "outputs": [],
   "metadata": {}
  },
  {
   "cell_type": "code",
   "execution_count": 58,
   "source": [
    "allx_arr = [(i,j) for i,j in zip(th0_arr, phi0_arr)]\n",
    "ally_arr = [(i,j,k) for i,j,k in  zip(th1_arr, phi1_arr, sl_arr)]\n",
    "\n",
    "f_th = interpolate.interp2d(th0_arr, phi0_arr, th1_arr)\n",
    "f_phi = interpolate.interp2d(th0_arr, phi0_arr, phi1_arr)\n",
    "f_sl = interpolate.interp2d(th0_arr, phi0_arr, sl_arr)\n",
    "\n",
    "# very shady\n",
    "f_all = interpolate.RBFInterpolator(allx_arr, ally_arr, kernel=\"linear\")"
   ],
   "outputs": [
    {
     "output_type": "stream",
     "name": "stderr",
     "text": [
      "C:\\Users\\raulf\\.virtualenvs\\GR-wormholes-oDSgYxtM\\lib\\site-packages\\scipy\\interpolate\\_fitpack_impl.py:977: RuntimeWarning: No more knots can be added because the number of B-spline\n",
      "coefficients already exceeds the number of data points m.\n",
      "Probable causes: either s or m too small. (fp>s)\n",
      "\tkx,ky=1,1 nx,ny=31,65 m=1800 fp=0.000000 s=0.000000\n",
      "  warnings.warn(RuntimeWarning(_iermess2[ierm][0] + _mess))\n",
      "C:\\Users\\raulf\\.virtualenvs\\GR-wormholes-oDSgYxtM\\lib\\site-packages\\scipy\\interpolate\\_fitpack_impl.py:977: RuntimeWarning: No more knots can be added because the number of B-spline\n",
      "coefficients already exceeds the number of data points m.\n",
      "Probable causes: either s or m too small. (fp>s)\n",
      "\tkx,ky=1,1 nx,ny=35,57 m=1800 fp=0.000002 s=0.000000\n",
      "  warnings.warn(RuntimeWarning(_iermess2[ierm][0] + _mess))\n",
      "C:\\Users\\raulf\\.virtualenvs\\GR-wormholes-oDSgYxtM\\lib\\site-packages\\scipy\\interpolate\\_fitpack_impl.py:977: RuntimeWarning: No more knots can be added because the number of B-spline\n",
      "coefficients already exceeds the number of data points m.\n",
      "Probable causes: either s or m too small. (fp>s)\n",
      "\tkx,ky=1,1 nx,ny=34,59 m=1800 fp=0.000000 s=0.000000\n",
      "  warnings.warn(RuntimeWarning(_iermess2[ierm][0] + _mess))\n"
     ]
    }
   ],
   "metadata": {}
  },
  {
   "cell_type": "code",
   "execution_count": 70,
   "source": [
    "saturn_back = BackgroundImage(\"galaxy_horizon.jpg\")\n",
    "galaxy_back = BackgroundImage(\"saturn_horizon.jpg\")"
   ],
   "outputs": [],
   "metadata": {}
  },
  {
   "cell_type": "code",
   "execution_count": 63,
   "source": [
    "x_dim = 800\n",
    "y_dim = 400\n",
    "phi2_arr = np.linspace(-np.pi, np.pi, x_dim)\n",
    "th2_arr = np.linspace(0, np.pi, y_dim)\n",
    "\n",
    "index_arr = []\n",
    "coord_arr = []\n",
    "cx_arr = []\n",
    "cy_arr = []\n",
    "for i,phi in enumerate(phi2_arr):\n",
    "    for j,th in enumerate(th2_arr):\n",
    "        coord_arr.append([phi, th])\n",
    "        cx_arr.append(phi)\n",
    "        cy_arr.append(th)\n",
    "        index_arr.append([i, j])\n",
    "\n",
    "    \n",
    "print(\"interpolating\")\n",
    "# interpol = f_all(coord_arr)\n",
    "\n",
    "th1_interpol = [f_th(x, y) for x,y in coord_arr]\n",
    "phi1_interpol = [f_phi(x, y) for x,y in coord_arr ]\n",
    "sl_interpol = [f_sl(x, y) for x,y in coord_arr ]\n"
   ],
   "outputs": [
    {
     "output_type": "stream",
     "name": "stdout",
     "text": [
      "interpolating\n"
     ]
    }
   ],
   "metadata": {}
  },
  {
   "cell_type": "code",
   "execution_count": 61,
   "source": [
    "f_th(1,1)"
   ],
   "outputs": [
    {
     "output_type": "execute_result",
     "data": {
      "text/plain": [
       "array([0.01904306])"
      ]
     },
     "metadata": {},
     "execution_count": 61
    }
   ],
   "metadata": {}
  },
  {
   "cell_type": "code",
   "execution_count": 71,
   "source": [
    "pixel_arr = np.zeros((y_dim, x_dim, 3))\n",
    "for k,_ in enumerate(th1_interpol):\n",
    "    th1 = th1_interpol[k]\n",
    "    phi1 = phi1_interpol[k]\n",
    "    sl = sl_interpol[k]\n",
    "    i, j = index_arr[k]\n",
    "\n",
    "    if sl>0:\n",
    "        pixel_arr[j][i] = saturn_back.get_pixel_from_angle(phi1, th1)\n",
    "    else:\n",
    "        pixel_arr[j][i] = galaxy_back.get_pixel_from_angle(phi1, th1)\n",
    "        \n",
    "im = Image.fromarray(np.uint8(pixel_arr))\n",
    "im.save(\"output5.png\") "
   ],
   "outputs": [],
   "metadata": {}
  },
  {
   "cell_type": "code",
   "execution_count": 56,
   "source": [
    "count1 = 0\n",
    "pixel_arr = np.zeros((y_dim, x_dim, 3))\n",
    "for k,v in enumerate(interpol):\n",
    "    th1 = v[0]\n",
    "    phi1 = v[1]\n",
    "    i, j = index_arr[k]\n",
    "    phi, th = coord_arr[k]\n",
    "    side = v[2]\n",
    "    if side > 0:\n",
    "        # it is a saturn background\n",
    "        pixel_arr[j][i] = saturn_back.get_pixel_from_angle(phi1, th1)\n",
    "        #pixel_arr[j][i] = [0,0,0]\n",
    "    else:\n",
    "        count1+=1\n",
    "        # it is a galaxy background\n",
    "        pixel_arr[j][i] = galaxy_back.get_pixel_from_angle(phi1, th1)\n",
    "        #pixel_arr[j][i] = [255,255,255] \n",
    "        \n",
    "im = Image.fromarray(np.uint8(pixel_arr))\n",
    "im.save(\"output5.png\")    \n"
   ],
   "outputs": [],
   "metadata": {
    "tags": []
   }
  },
  {
   "cell_type": "code",
   "execution_count": 54,
   "source": [
    "count=0\n",
    "for v in interpol:\n",
    "    if(v[2]<0):\n",
    "        count+=1\n",
    "print(count)"
   ],
   "outputs": [
    {
     "output_type": "stream",
     "name": "stdout",
     "text": [
      "72168\n"
     ]
    }
   ],
   "metadata": {
    "tags": []
   }
  },
  {
   "cell_type": "code",
   "execution_count": 67,
   "source": [
    "print(count1)"
   ],
   "outputs": [
    {
     "output_type": "stream",
     "name": "stdout",
     "text": [
      "66502\n"
     ]
    }
   ],
   "metadata": {}
  },
  {
   "cell_type": "code",
   "execution_count": 74,
   "source": [
    "plt.imsave(\"output.png\", np.uint8(pixel_arr))"
   ],
   "outputs": [],
   "metadata": {}
  },
  {
   "cell_type": "code",
   "execution_count": 174,
   "source": [
    "saturn_back.image_arr[int(y*self.th_max)][int(x*self.phi_max)]"
   ],
   "outputs": [
    {
     "output_type": "execute_result",
     "data": {
      "text/plain": [
       "56846"
      ]
     },
     "metadata": {},
     "execution_count": 174
    }
   ],
   "metadata": {}
  },
  {
   "cell_type": "code",
   "execution_count": 177,
   "source": [
    "phi = np.pi/2\n",
    "th = 0\n",
    "x = (phi+np.pi)/(2*np.pi) # normalised from 0-1\n",
    "y = th/np.pi"
   ],
   "outputs": [],
   "metadata": {}
  },
  {
   "cell_type": "code",
   "execution_count": 179,
   "source": [
    "saturn_back.image_arr[int(y*saturn_back.th_max)][int(x*saturn_back.phi_max)]"
   ],
   "outputs": [
    {
     "output_type": "execute_result",
     "data": {
      "text/plain": [
       "array([0, 0, 0], dtype=uint8)"
      ]
     },
     "metadata": {},
     "execution_count": 179
    }
   ],
   "metadata": {}
  },
  {
   "cell_type": "code",
   "execution_count": 75,
   "source": [
    "len(saturn_arr)"
   ],
   "outputs": [
    {
     "output_type": "execute_result",
     "data": {
      "text/plain": [
       "875"
      ]
     },
     "metadata": {},
     "execution_count": 75
    }
   ],
   "metadata": {}
  },
  {
   "cell_type": "markdown",
   "source": [
    "# Testing the angular stuff with the simple images"
   ],
   "metadata": {}
  },
  {
   "cell_type": "code",
   "execution_count": 21,
   "source": [
    "galaxy_back = BackgroundImage(\"wormhole_horizon.jpg\")\n",
    "saturn_back = BackgroundImage(\"saturn_horizon.jpg\")"
   ],
   "outputs": [],
   "metadata": {}
  },
  {
   "cell_type": "code",
   "execution_count": 43,
   "source": [
    "x_dim = 800\n",
    "y_dim = 400\n",
    "phi2_arr = np.linspace(-np.pi, np.pi, x_dim)\n",
    "th2_arr = np.linspace(0,np.pi, y_dim)\n",
    "pixel_arr = np.zeros((y_dim, x_dim, 3))\n",
    "\n",
    "scale_x = x_dim/galaxy_back.phi_max\n",
    "scale_y = y_dim/galaxy_back.th_max\n",
    "\n",
    "for i,phi in enumerate(phi2_arr+3):\n",
    "    for j,th in enumerate(th2_arr+2):\n",
    "        pixel_arr[j][i] = galaxy_back.get_pixel_from_angle(phi, th)\n",
    "        #pixel_arr[j][i] = galaxy_back.image_arr[int(j/scale_y)][int(i/scale_x)]\n",
    "\n",
    "im = Image.fromarray(np.uint8(pixel_arr))\n",
    "im.save(\"test-image.png\")    "
   ],
   "outputs": [],
   "metadata": {}
  },
  {
   "cell_type": "code",
   "execution_count": 26,
   "source": [
    "pixel_arr = np.zeros((2, 2, 3))"
   ],
   "outputs": [],
   "metadata": {}
  },
  {
   "cell_type": "code",
   "execution_count": 27,
   "source": [
    "pixel_arr"
   ],
   "outputs": [
    {
     "output_type": "execute_result",
     "data": {
      "text/plain": [
       "array([[[0., 0., 0.],\n",
       "        [0., 0., 0.]],\n",
       "\n",
       "       [[0., 0., 0.],\n",
       "        [0., 0., 0.]]])"
      ]
     },
     "metadata": {},
     "execution_count": 27
    }
   ],
   "metadata": {}
  },
  {
   "cell_type": "code",
   "execution_count": 34,
   "source": [
    "len(galaxy_back.image_arr)*2"
   ],
   "outputs": [
    {
     "output_type": "execute_result",
     "data": {
      "text/plain": [
       "1750"
      ]
     },
     "metadata": {},
     "execution_count": 34
    }
   ],
   "metadata": {}
  },
  {
   "cell_type": "code",
   "execution_count": 33,
   "source": [
    "len(galaxy_back.image_arr[0])"
   ],
   "outputs": [
    {
     "output_type": "execute_result",
     "data": {
      "text/plain": [
       "1750"
      ]
     },
     "metadata": {},
     "execution_count": 33
    }
   ],
   "metadata": {}
  },
  {
   "cell_type": "code",
   "execution_count": null,
   "source": [],
   "outputs": [],
   "metadata": {}
  }
 ]
}